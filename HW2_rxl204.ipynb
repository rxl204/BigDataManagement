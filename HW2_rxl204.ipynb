{
 "cells": [
  {
   "cell_type": "code",
   "execution_count": 2,
   "metadata": {},
   "outputs": [
    {
     "data": {
      "text/html": [
       "\n",
       "        <div>\n",
       "            <p><b>SparkContext</b></p>\n",
       "\n",
       "            <p><a href=\"http://172-16-32-34.dynapool.nyu.edu:4040\">Spark UI</a></p>\n",
       "\n",
       "            <dl>\n",
       "              <dt>Version</dt>\n",
       "                <dd><code>v2.3.1</code></dd>\n",
       "              <dt>Master</dt>\n",
       "                <dd><code>local[*]</code></dd>\n",
       "              <dt>AppName</dt>\n",
       "                <dd><code>PySparkShell</code></dd>\n",
       "            </dl>\n",
       "        </div>\n",
       "        "
      ],
      "text/plain": [
       "<SparkContext master=local[*] appName=PySparkShell>"
      ]
     },
     "execution_count": 2,
     "metadata": {},
     "output_type": "execute_result"
    }
   ],
   "source": [
    "sc"
   ]
  },
  {
   "cell_type": "markdown",
   "metadata": {},
   "source": [
    "## Compute the number of restaurants per each cuisine using the provided nyc_restaurant_inspections.csv data set. \n",
    "#### - The cuisine type can be extracted from the \"CUISINE DESCRIPTION\" column. Note that, a single restaurant may be inspected multiple times. \n",
    "#### - You must use the \"CAMIS\" column to keep only unique restaurants while computing the number of restaurants per cuisine."
   ]
  },
  {
   "cell_type": "code",
   "execution_count": 3,
   "metadata": {
    "collapsed": true
   },
   "outputs": [],
   "source": [
    "cuisine = sc.textFile('nyc_restaurant_inspections.csv', use_unicode=False).cache()"
   ]
  },
  {
   "cell_type": "code",
   "execution_count": 4,
   "metadata": {},
   "outputs": [
    {
     "data": {
      "text/plain": [
       "'CAMIS,DBA,BORO,BUILDING,STREET,ZIPCODE,PHONE,CUISINE DESCRIPTION,INSPECTION DATE,ACTION,VIOLATION CODE,VIOLATION DESCRIPTION,CRITICAL FLAG,SCORE,GRADE,GRADE DATE,RECORD DATE,INSPECTION TYPE'"
      ]
     },
     "execution_count": 4,
     "metadata": {},
     "output_type": "execute_result"
    }
   ],
   "source": [
    "cuisine.first()"
   ]
  },
  {
   "cell_type": "code",
   "execution_count": 5,
   "metadata": {
    "scrolled": true
   },
   "outputs": [
    {
     "data": {
      "text/plain": [
       "[(0, 'CAMIS'),\n",
       " (1, 'DBA'),\n",
       " (2, 'BORO'),\n",
       " (3, 'BUILDING'),\n",
       " (4, 'STREET'),\n",
       " (5, 'ZIPCODE'),\n",
       " (6, 'PHONE'),\n",
       " (7, 'CUISINE DESCRIPTION'),\n",
       " (8, 'INSPECTION DATE'),\n",
       " (9, 'ACTION'),\n",
       " (10, 'VIOLATION CODE'),\n",
       " (11, 'VIOLATION DESCRIPTION'),\n",
       " (12, 'CRITICAL FLAG'),\n",
       " (13, 'SCORE'),\n",
       " (14, 'GRADE'),\n",
       " (15, 'GRADE DATE'),\n",
       " (16, 'RECORD DATE'),\n",
       " (17, 'INSPECTION TYPE')]"
      ]
     },
     "execution_count": 5,
     "metadata": {},
     "output_type": "execute_result"
    }
   ],
   "source": [
    "list(enumerate(cuisine.first().split(',')))"
   ]
  },
  {
   "cell_type": "code",
   "execution_count": 6,
   "metadata": {},
   "outputs": [
    {
     "data": {
      "text/plain": [
       "379675"
      ]
     },
     "execution_count": 6,
     "metadata": {},
     "output_type": "execute_result"
    }
   ],
   "source": [
    "cuisine.count()"
   ]
  },
  {
   "cell_type": "code",
   "execution_count": 7,
   "metadata": {},
   "outputs": [],
   "source": [
    "def parseRows(i, rows):\n",
    "    if i == 0: \n",
    "        rows.next() # next(row)\n",
    "    import csv\n",
    "    rows = csv.reader(rows)\n",
    "    for x in rows:\n",
    "        yield x[0], x[7]"
   ]
  },
  {
   "cell_type": "code",
   "execution_count": 10,
   "metadata": {
    "collapsed": true
   },
   "outputs": [],
   "source": [
    "r = (cuisine.mapPartitionsWithIndex(parseRows)\n",
    "            .reduceByKey(lambda accum, y: y)\n",
    "            .map(lambda (camis, cuisine): (cuisine, 1))\n",
    "            .reduceByKey(lambda accum, n: accum + n)\n",
    "            .sortBy(lambda x: -x[1]))"
   ]
  },
  {
   "cell_type": "code",
   "execution_count": 11,
   "metadata": {
    "scrolled": false
   },
   "outputs": [
    {
     "data": {
      "text/plain": [
       "[('American', 6002),\n",
       " ('Chinese', 2399),\n",
       " ('Caf\\xc3\\x83\\xc2\\xa9/Coffee/Tea', 1629),\n",
       " ('Other', 1296),\n",
       " ('Pizza', 1186),\n",
       " ('Italian', 1016),\n",
       " ('Mexican', 877),\n",
       " ('Japanese', 859),\n",
       " ('Latin (Cuban, Dominican, Puerto Rican, South & Central American)', 840),\n",
       " ('Bakery', 733),\n",
       " ('Caribbean', 671),\n",
       " ('Spanish', 644),\n",
       " ('Donuts', 537),\n",
       " ('Pizza/Italian', 483),\n",
       " ('Chicken', 456),\n",
       " ('Sandwiches', 406),\n",
       " ('Juice, Smoothies, Fruit Salads', 382),\n",
       " ('Hamburgers', 378),\n",
       " ('Asian', 371),\n",
       " ('Ice Cream, Gelato, Yogurt, Ices', 339),\n",
       " ('Indian', 332),\n",
       " ('Jewish/Kosher', 327),\n",
       " ('French', 319),\n",
       " ('Delicatessen', 294),\n",
       " ('Thai', 286),\n",
       " ('Korean', 276),\n",
       " ('Sandwiches/Salads/Mixed Buffet', 253),\n",
       " ('Mediterranean', 253),\n",
       " ('Irish', 187),\n",
       " ('Seafood', 181)]"
      ]
     },
     "execution_count": 11,
     "metadata": {},
     "output_type": "execute_result"
    }
   ],
   "source": [
    "r.take(30)"
   ]
  },
  {
   "cell_type": "code",
   "execution_count": null,
   "metadata": {
    "collapsed": true
   },
   "outputs": [],
   "source": []
  },
  {
   "cell_type": "code",
   "execution_count": null,
   "metadata": {
    "collapsed": true
   },
   "outputs": [],
   "source": []
  }
 ],
 "metadata": {
  "kernelspec": {
   "display_name": "vis",
   "language": "python",
   "name": "vis"
  },
  "language_info": {
   "codemirror_mode": {
    "name": "ipython",
    "version": 2
   },
   "file_extension": ".py",
   "mimetype": "text/x-python",
   "name": "python",
   "nbconvert_exporter": "python",
   "pygments_lexer": "ipython2",
   "version": "2.7.13"
  }
 },
 "nbformat": 4,
 "nbformat_minor": 2
}
