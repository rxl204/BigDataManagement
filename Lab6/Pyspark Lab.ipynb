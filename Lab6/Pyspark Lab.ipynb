{
 "cells": [
  {
   "cell_type": "code",
   "execution_count": 1,
   "metadata": {},
   "outputs": [
    {
     "data": {
      "text/html": [
       "\n",
       "        <div>\n",
       "            <p><b>SparkContext</b></p>\n",
       "\n",
       "            <p><a href=\"http://172-16-37-45.dynapool.nyu.edu:4041\">Spark UI</a></p>\n",
       "\n",
       "            <dl>\n",
       "              <dt>Version</dt>\n",
       "                <dd><code>v2.3.1</code></dd>\n",
       "              <dt>Master</dt>\n",
       "                <dd><code>local[*]</code></dd>\n",
       "              <dt>AppName</dt>\n",
       "                <dd><code>PySparkShell</code></dd>\n",
       "            </dl>\n",
       "        </div>\n",
       "        "
      ],
      "text/plain": [
       "<SparkContext master=local[*] appName=PySparkShell>"
      ]
     },
     "execution_count": 1,
     "metadata": {},
     "output_type": "execute_result"
    }
   ],
   "source": [
    "sc"
   ]
  },
  {
   "cell_type": "markdown",
   "metadata": {},
   "source": [
    "# TASK 1:\n",
    "You are asked to compute the average SAT Math score of all high schools with 500 students or more, for\n",
    "each borough of the city. Meaning: what is the average SAT Math score of all high schools with 500 students\n",
    "or more in Manhattan, in Brooklyn, in Queens, in Bronx and in Staten Island.\n",
    "You must use Apache Spark for this lab. Both data sets must be loaded into RDDs, where all your\n",
    "manipulations must be applied on, though you are free to transform these RDDs into Spark’s DataFrame or\n",
    "SQL Context (though we have not covered this yet). The final result is expected to be a list of tuples borough\n",
    "names as the first elements, and the average scores as the second.\n",
    "Note 1: since the SAT Results also provide the number of test takers along with the average scores, you\n",
    "should use this information in computing the exact average scores above.\n",
    "Note 2: if a DBN in the SAT Results data set is not found in the High School Directory, you can safely ignore\n",
    "the test scores for that school."
   ]
  },
  {
   "cell_type": "code",
   "execution_count": 2,
   "metadata": {
    "collapsed": true
   },
   "outputs": [],
   "source": [
    "rdd = sc.textFile('/Applications/spark-2.3.1-bin-hadoop2.6/README.md')\n",
    "rdd1 = sc.parallelize([1,2,3,4,5])"
   ]
  },
  {
   "cell_type": "code",
   "execution_count": 3,
   "metadata": {},
   "outputs": [
    {
     "data": {
      "text/plain": [
       "[1, 2, 3, 4, 5]"
      ]
     },
     "execution_count": 3,
     "metadata": {},
     "output_type": "execute_result"
    }
   ],
   "source": [
    "rdd1.collect()"
   ]
  },
  {
   "cell_type": "code",
   "execution_count": 4,
   "metadata": {},
   "outputs": [
    {
     "data": {
      "text/plain": [
       "[u'# Apache Spark',\n",
       " u'',\n",
       " u'Spark is a fast and general cluster computing system for Big Data. It provides',\n",
       " u'high-level APIs in Scala, Java, Python, and R, and an optimized engine that',\n",
       " u'supports general computation graphs for data analysis. It also supports a']"
      ]
     },
     "execution_count": 4,
     "metadata": {},
     "output_type": "execute_result"
    }
   ],
   "source": [
    "rdd.take(5)"
   ]
  },
  {
   "cell_type": "code",
   "execution_count": 5,
   "metadata": {},
   "outputs": [
    {
     "data": {
      "text/plain": [
       "[u'#', u'Apache', u'Spark', u'Spark']"
      ]
     },
     "execution_count": 5,
     "metadata": {},
     "output_type": "execute_result"
    }
   ],
   "source": [
    "rdd.flatMap(lambda line: line.split()).take(4)"
   ]
  },
  {
   "cell_type": "code",
   "execution_count": 6,
   "metadata": {},
   "outputs": [
    {
     "data": {
      "text/plain": [
       "[(u'when', 1),\n",
       " (u'alternatively,', 1),\n",
       " (u'\"local\"', 1),\n",
       " (u'including', 4),\n",
       " (u'computation', 1)]"
      ]
     },
     "execution_count": 6,
     "metadata": {},
     "output_type": "execute_result"
    }
   ],
   "source": [
    "rdd.flatMap(lambda line: line.split()) \\\n",
    "    .map(lambda x: (x.lower(),1)) \\\n",
    "    .groupByKey() \\\n",
    "    .mapValues(lambda x: sum(x)) \\\n",
    "    .take(5)"
   ]
  },
  {
   "cell_type": "code",
   "execution_count": 7,
   "metadata": {},
   "outputs": [
    {
     "data": {
      "text/plain": [
       "[(u'when', 1),\n",
       " (u'alternatively,', 1),\n",
       " (u'\"local\"', 1),\n",
       " (u'including', 4),\n",
       " (u'computation', 1)]"
      ]
     },
     "execution_count": 7,
     "metadata": {},
     "output_type": "execute_result"
    }
   ],
   "source": [
    "rdd.flatMap(lambda line: line.split()) \\\n",
    "    .map(lambda x: (x.lower(),1)) \\\n",
    "    .reduceByKey(lambda x,y: x+y) \\\n",
    "    .take(5)"
   ]
  },
  {
   "cell_type": "code",
   "execution_count": 8,
   "metadata": {},
   "outputs": [
    {
     "data": {
      "text/plain": [
       "[(u'the', 25), (u'to', 19), (u'spark', 16), (u'for', 15), (u'and', 10)]"
      ]
     },
     "execution_count": 8,
     "metadata": {},
     "output_type": "execute_result"
    }
   ],
   "source": [
    "rdd.flatMap(lambda line: line.split()) \\\n",
    "    .map(lambda x: (x.lower(),1)) \\\n",
    "    .reduceByKey(lambda x,y: x+y) \\\n",
    "    .top(5, key=lambda x: x[1])"
   ]
  },
  {
   "cell_type": "code",
   "execution_count": 9,
   "metadata": {
    "collapsed": true
   },
   "outputs": [],
   "source": [
    "SAT_FN = 'SAT_Results.csv'\n",
    "HSD_FN = 'DOE_High_School_Directory_2014-2015.csv'"
   ]
  },
  {
   "cell_type": "code",
   "execution_count": 10,
   "metadata": {
    "collapsed": true
   },
   "outputs": [],
   "source": [
    "df = sqlContext.read.format('com.databricks.spark.csv').options(header='true', inferschema='true').load(HSD_FN)"
   ]
  },
  {
   "cell_type": "code",
   "execution_count": 11,
   "metadata": {},
   "outputs": [
    {
     "name": "stdout",
     "output_type": "stream",
     "text": [
      "+-------------------+--------------------+---------+-------------+------------+------------+--------------+--------------+-----------------+-----------------+--------------------+--------------------+----------------------+--------+----------+-----+--------------------+--------------+-----------+-----------------+--------------------+--------------------+--------------------+-------------------------+--------------------+-----------------------+--------------------------+--------------------+--------------------+----------------+--------------------+--------------------+--------------------+--------------------+--------------------+--------------------+--------------------+-----------------+--------------------+--------------------+--------------------+----------+--------+--------------------+------------+--------------------------------+---------------+--------------------+--------------------+--------------------+--------------------+--------------------+----------+----------+----------+----------+----------+--------------------+\n",
      "|                dbn|         school_name|     boro|building_code|phone_number|  fax_number|grade_span_min|grade_span_max|expgrade_span_min|expgrade_span_max|                 bus|              subway|primary_address_line_1|    city|state_code|  zip|             website|total_students|campus_name|      school_type|  overview_paragraph|  program_highlights|    language_classes|advancedplacement_courses|   online_ap_courses|online_language_courses|extracurricular_activities|    psal_sports_boys|   psal_sports_girls|psal_sports_coed|       school_sports|         partner_cbo|    partner_hospital|    partner_highered|    partner_cultural|   partner_nonprofit|   partner_corporate|partner_financial|       partner_other|         addtl_info1|         addtl_info2|start_time|end_time|         se_services|ell_programs|school_accessibility_description|number_programs|          priority01|          priority02|          priority03|          priority04|          priority05|priority06|priority07|priority08|priority09|priority10|          Location 1|\n",
      "+-------------------+--------------------+---------+-------------+------------+------------+--------------+--------------+-----------------+-----------------+--------------------+--------------------+----------------------+--------+----------+-----+--------------------+--------------+-----------+-----------------+--------------------+--------------------+--------------------+-------------------------+--------------------+-----------------------+--------------------------+--------------------+--------------------+----------------+--------------------+--------------------+--------------------+--------------------+--------------------+--------------------+--------------------+-----------------+--------------------+--------------------+--------------------+----------+--------+--------------------+------------+--------------------------------+---------------+--------------------+--------------------+--------------------+--------------------+--------------------+----------+----------+----------+----------+----------+--------------------+\n",
      "|             01M292|Henry Street Scho...|Manhattan|         M056|212-406-9411|212-406-9417|             6|            12|             null|             null|B39, M14A, M14D, ...|B, D to Grand St ...|      220 Henry Street|New York|        NY|10002|http://schools.ny...|           323|        N/A|             null|Henry Street Scho...|Global/Internatio...|Chinese (Mandarin...|               Psychology|Chinese Language ...|   Chinese (Mandarin...|      Math through Card...|          Basketball|            Softball|          Soccer|Boxing, Track, CH...|The Henry Street ...|Gouverneur Hospit...| New York University|        Asia Society|Heart of America ...|                null|             null|      United Nations|                null|                null|   8:30 AM| 3:30 PM|This school will ...|         ESL|            Functionally Acce...|              1|Priority to conti...|Then to Manhattan...|Then to New York ...|Then to Manhattan...|Then to New York ...|      null|      null|      null|      null|      null|    220 Henry Street|\n",
      "|           New York|            NY 10002|     null|         null|        null|        null|          null|          null|             null|             null|                null|                null|                  null|    null|      null| null|                null|          null|       null|             null|                null|                null|                null|                     null|                null|                   null|                      null|                null|                null|            null|                null|                null|                null|                null|                null|                null|                null|             null|                null|                null|                null|      null|    null|                null|        null|                            null|           null|                null|                null|                null|                null|                null|      null|      null|      null|      null|      null|                null|\n",
      "| (40.71376394700047| -73.985260039999...|     null|         null|        null|        null|          null|          null|             null|             null|                null|                null|                  null|    null|      null| null|                null|          null|       null|             null|                null|                null|                null|                     null|                null|                   null|                      null|                null|                null|            null|                null|                null|                null|                null|                null|                null|                null|             null|                null|                null|                null|      null|    null|                null|        null|                            null|           null|                null|                null|                null|                null|                null|      null|      null|      null|      null|      null|                null|\n",
      "|             01M448|University Neighb...|Manhattan|         M446|212-962-4341|212-267-5611|             9|            12|             null|             null|M14A, M14D, M15, ...|F to East Broadwa...|     200 Monroe Street|New York|        NY|10002|www.universitynei...|           299|        N/A|             null|University Neighb...|While attending U...|    Chinese, Spanish|     Calculus AB, Chin...|                null|   Chinese (Cantones...|      Basketball, Badmi...|Baseball, Basketb...|Basketball, Bowli...|            null|                null|Grand Street Sett...|Gouverneur Hospit...|New York Universi...|Dance Film Associ...|W!SE, Big Brother...|Deloitte LLP Cons...|             null|   Movement Research|Incoming students...|Community Service...|   8:15 AM| 3:15 PM|This school will ...|         ESL|            Not Functionally ...|              3|Open to New York ...|For M35B only: Op...|                null|                null|                null|      null|      null|      null|      null|      null|   200 Monroe Street|\n",
      "|           New York|            NY 10002|     null|         null|        null|        null|          null|          null|             null|             null|                null|                null|                  null|    null|      null| null|                null|          null|       null|             null|                null|                null|                null|                     null|                null|                   null|                      null|                null|                null|            null|                null|                null|                null|                null|                null|                null|                null|             null|                null|                null|                null|      null|    null|                null|        null|                            null|           null|                null|                null|                null|                null|                null|      null|      null|      null|      null|      null|                null|\n",
      "|  (40.7123318510005| -73.984796624999...|     null|         null|        null|        null|          null|          null|             null|             null|                null|                null|                  null|    null|      null| null|                null|          null|       null|             null|                null|                null|                null|                     null|                null|                   null|                      null|                null|                null|            null|                null|                null|                null|                null|                null|                null|                null|             null|                null|                null|                null|      null|    null|                null|        null|                            null|           null|                null|                null|                null|                null|                null|      null|      null|      null|      null|      null|                null|\n",
      "|             01M450|East Side Communi...|Manhattan|         M060|212-460-8467|212-260-9657|             6|            12|             null|             null|M101, M102, M103,...|6 to Astor Place ...|    420 East 12 Street|New York|        NY|10009|       www.eschs.org|           649|        N/A|Consortium School|We are a small 6-...|Our Advisory Syst...|                null|     Calculus AB, Engl...|                null|   American Sign Lan...|      After-School Tuto...|Baseball, Basketb...|Basketball, Socce...|            null|Basketball, Bicyc...|University Settle...|                null|Columbia Teachers...|, Internship Prog...|College Bound Ini...|Prudential Securi...|             null|Brooklyn Boulders...|Students present ...|Our school requir...|   8:30 AM| 3:30 PM|This school will ...|         ESL|            Not Functionally ...|              1|Priority to conti...|Then to New York ...|                null|                null|                null|      null|      null|      null|      null|      null|  420 East 12 Street|\n",
      "|           New York|            NY 10009|     null|         null|        null|        null|          null|          null|             null|             null|                null|                null|                  null|    null|      null| null|                null|          null|       null|             null|                null|                null|                null|                     null|                null|                   null|                      null|                null|                null|            null|                null|                null|                null|                null|                null|                null|                null|             null|                null|                null|                null|      null|    null|                null|        null|                            null|           null|                null|                null|                null|                null|                null|      null|      null|      null|      null|      null|                null|\n",
      "|(40.729782687000466| -73.983041440999...|     null|         null|        null|        null|          null|          null|             null|             null|                null|                null|                  null|    null|      null| null|                null|          null|       null|             null|                null|                null|                null|                     null|                null|                   null|                      null|                null|                null|            null|                null|                null|                null|                null|                null|                null|                null|             null|                null|                null|                null|      null|    null|                null|        null|                            null|           null|                null|                null|                null|                null|                null|      null|      null|      null|      null|      null|                null|\n",
      "|             01M509|Marta Valle High ...|Manhattan|         M025|212-473-8152|212-475-7588|             9|            12|             null|             null|B39, M103, M14A, ...|B, D to Grand St ...|    145 Stanton Street|New York|        NY|10002|  www.martavalle.org|           401|        N/A|             null|Marta Valle High ...|Advanced Regents ...|     French, Spanish|     English Literatur...|                null|                Spanish|      Model Peer Leader...|   Basketball, Rugby|   Rugby, Volleyball|           Rugby|   Volleyball, Zumba|NYCDOE Innovation...|Gouvenuer's Hospital|New York Universi...|Young Audiences, ...|College for Every...|        Estée Lauder|  Bank of America|    CASALEAP, Beacon|Students Dress fo...|Community Service...|   8:00 AM| 3:30 PM|This school will ...|         ESL|            Functionally Acce...|              1|Priority to Distr...|Then to Manhattan...|Then to New York ...|                null|                null|      null|      null|      null|      null|      null|  145 Stanton Street|\n",
      "|           New York|            NY 10002|     null|         null|        null|        null|          null|          null|             null|             null|                null|                null|                  null|    null|      null| null|                null|          null|       null|             null|                null|                null|                null|                     null|                null|                   null|                      null|                null|                null|            null|                null|                null|                null|                null|                null|                null|                null|             null|                null|                null|                null|      null|    null|                null|        null|                            null|           null|                null|                null|                null|                null|                null|      null|      null|      null|      null|      null|                null|\n",
      "|(40.720569079000484| -73.985672690999...|     null|         null|        null|        null|          null|          null|             null|             null|                null|                null|                  null|    null|      null| null|                null|          null|       null|             null|                null|                null|                null|                     null|                null|                   null|                      null|                null|                null|            null|                null|                null|                null|                null|                null|                null|                null|             null|                null|                null|                null|      null|    null|                null|        null|                            null|           null|                null|                null|                null|                null|                null|      null|      null|      null|      null|      null|                null|\n",
      "|             01M539|New Explorations ...|Manhattan|         M022|212-677-5190|212-260-8124|             K|            12|             null|             null|B39, M14A, M14D, ...|F, J, M, Z to Del...|   111 Columbia Street|New York|        NY|10002|    www.nestmk12.net|          1725|        N/A|             null|New Explorations ...|1st level science...|Chinese (Mandarin...|     Biology, Calculus...|                null|                   null|      After-school Jazz...|Basketball, Fenci...|Basketball, Fenci...|            null|Badminton, Baseba...|7th Precinct Comm...|                null|Hunter College, N...|VH1, Dancing Clas...|             After 3|Time Warner Cable...|             null|                null|Dress Code Requir...|                null|   8:15 AM| 4:00 PM|This school will ...|         ESL|            Not Functionally ...|              1|Priority to conti...|Then to New York ...|                null|                null|                null|      null|      null|      null|      null|      null| 111 Columbia Street|\n",
      "|           New York|            NY 10002|     null|         null|        null|        null|          null|          null|             null|             null|                null|                null|                  null|    null|      null| null|                null|          null|       null|             null|                null|                null|                null|                     null|                null|                   null|                      null|                null|                null|            null|                null|                null|                null|                null|                null|                null|                null|             null|                null|                null|                null|      null|    null|                null|        null|                            null|           null|                null|                null|                null|                null|                null|      null|      null|      null|      null|      null|                null|\n",
      "|(40.718725451000466| -73.979426385999...|     null|         null|        null|        null|          null|          null|             null|             null|                null|                null|                  null|    null|      null| null|                null|          null|       null|             null|                null|                null|                null|                     null|                null|                   null|                      null|                null|                null|            null|                null|                null|                null|                null|                null|                null|                null|             null|                null|                null|                null|      null|    null|                null|        null|                            null|           null|                null|                null|                null|                null|                null|      null|      null|      null|      null|      null|                null|\n",
      "|             01M696|Bard High School ...|Manhattan|         M097|212-995-8479|212-777-4702|             9|            12|             null|             null|M14A, M14D, M21, ...|                 N/A|  525 East Houston ...|New York|        NY|10002|  www.bard.edu/bhsec|           560|        N/A|             null|Bard High School ...|In the first two ...|Chinese (Mandarin...|                     null|                null|                   null|      Bard Bulletin onl...|Basketball, Socce...|Basketball, Socce...|   Outdoor Track|Co-ed Ultimate Fr...|Lower East Side G...|                null|Bard College, Bar...|American Symphony...|                null|                null|             null|New York Academy ...|                null|Student Summer Or...|   9:00 AM| 3:50 PM|This school will ...|         ESL|            Not Functionally ...|              1|Open to New York ...|                null|                null|                null|                null|      null|      null|      null|      null|      null|525 East Houston ...|\n",
      "|           New York|            NY 10002|     null|         null|        null|        null|          null|          null|             null|             null|                null|                null|                  null|    null|      null| null|                null|          null|       null|             null|                null|                null|                null|                     null|                null|                   null|                      null|                null|                null|            null|                null|                null|                null|                null|                null|                null|                null|             null|                null|                null|                null|      null|    null|                null|        null|                            null|           null|                null|                null|                null|                null|                null|      null|      null|      null|      null|      null|                null|\n",
      "|(40.718961617000446| -73.976066020999...|     null|         null|        null|        null|          null|          null|             null|             null|                null|                null|                  null|    null|      null| null|                null|          null|       null|             null|                null|                null|                null|                     null|                null|                   null|                      null|                null|                null|            null|                null|                null|                null|                null|                null|                null|                null|             null|                null|                null|                null|      null|    null|                null|        null|                            null|           null|                null|                null|                null|                null|                null|      null|      null|      null|      null|      null|                null|\n",
      "|             02M047|47 The American S...|Manhattan|         M047|917-326-6668|917-326-6688|             9|            12|             null|             null|M101, M102, M14A,...|4, 5, Q to 14th S...|    223 East 23 Street|New York|        NY|10010|     www.47aslhs.org|           184|        N/A|             null|In addition to th...|Small class sizes...|American Sign Lan...|                     null|                null|                   null|      Academic Bowl, AC...|          Basketball|                null|            null|Basketball, Cross...|WRI-Welfare Right...|                null|New York Universi...|Children's Museum...|                null|              PENCIL|             null|                null|Our student body ...|Community Service...|   8:45 AM| 3:45 PM|This school will ...|         ESL|            Functionally Acce...|              1|Priority to “47” ...|Then to New York ...|                null|                null|                null|      null|      null|      null|      null|      null|  223 East 23 Street|\n",
      "|           New York|            NY 10010|     null|         null|        null|        null|          null|          null|             null|             null|                null|                null|                  null|    null|      null| null|                null|          null|       null|             null|                null|                null|                null|                     null|                null|                   null|                      null|                null|                null|            null|                null|                null|                null|                null|                null|                null|                null|             null|                null|                null|                null|      null|    null|                null|        null|                            null|           null|                null|                null|                null|                null|                null|      null|      null|      null|      null|      null|                null|\n",
      "+-------------------+--------------------+---------+-------------+------------+------------+--------------+--------------+-----------------+-----------------+--------------------+--------------------+----------------------+--------+----------+-----+--------------------+--------------+-----------+-----------------+--------------------+--------------------+--------------------+-------------------------+--------------------+-----------------------+--------------------------+--------------------+--------------------+----------------+--------------------+--------------------+--------------------+--------------------+--------------------+--------------------+--------------------+-----------------+--------------------+--------------------+--------------------+----------+--------+--------------------+------------+--------------------------------+---------------+--------------------+--------------------+--------------------+--------------------+--------------------+----------+----------+----------+----------+----------+--------------------+\n",
      "only showing top 20 rows\n",
      "\n"
     ]
    }
   ],
   "source": [
    "df.show()"
   ]
  },
  {
   "cell_type": "code",
   "execution_count": 12,
   "metadata": {},
   "outputs": [
    {
     "data": {
      "text/plain": [
       "1305"
      ]
     },
     "execution_count": 12,
     "metadata": {},
     "output_type": "execute_result"
    }
   ],
   "source": [
    "df.count()"
   ]
  },
  {
   "cell_type": "code",
   "execution_count": 13,
   "metadata": {
    "collapsed": true
   },
   "outputs": [],
   "source": [
    "hsd = sc.textFile(HSD_FN, use_unicode=False).cache()"
   ]
  },
  {
   "cell_type": "code",
   "execution_count": 14,
   "metadata": {},
   "outputs": [
    {
     "data": {
      "text/plain": [
       "['dbn,school_name,boro,building_code,phone_number,fax_number,grade_span_min,grade_span_max,expgrade_span_min,expgrade_span_max,bus,subway,primary_address_line_1,city,state_code,zip,website,total_students,campus_name,school_type,overview_paragraph,program_highlights,language_classes,advancedplacement_courses,online_ap_courses,online_language_courses,extracurricular_activities,psal_sports_boys,psal_sports_girls,psal_sports_coed,school_sports,partner_cbo,partner_hospital,partner_highered,partner_cultural,partner_nonprofit,partner_corporate,partner_financial,partner_other,addtl_info1,addtl_info2,start_time,end_time,se_services,ell_programs,school_accessibility_description,number_programs,priority01,priority02,priority03,priority04,priority05,priority06,priority07,priority08,priority09,priority10,Location 1',\n",
       " '01M292,Henry Street School for International Studies,Manhattan,M056,212-406-9411,212-406-9417,6,12,,,\"B39, M14A, M14D, M15, M15-SBS, M21, M22, M9\",\"B, D to Grand St ; F to East Broadway ; J, M, Z to Delancey St-Essex St\",220 Henry Street,New York,NY,10002,http://schools.nyc.gov/schoolportals/01/M292,323,N/A,,\"Henry Street School for International Studies is a unique small school founded by the Asia Society. While in pursuit of knowledge about other world regions, including their histories, economies and world languages, students acquire the knowledge and skills needed to prepare for college and/or careers. Teachers and other adults who make up the learning community forge supportive relationships with students and parents while providing challenging and engaging learning experiences. Our school partners with various community, arts and business organizations to help students achieve success. Our theme of international studies extends beyond the classroom, where students participate in ongoing \\xe2\\x80\\x98Advisory Day Out\\xe2\\x80\\x99 excursions where the multiculturalism of NYC becomes the classroom.\",\"Global/International Studies in core subjects, Literacy block schedule, Personalized instruction in small classes, Student Advisories, International travel opportunities, After-school program focused on youth leadership\",\"Chinese (Mandarin), Spanish\",Psychology,\"Chinese Language and Culture, Spanish Literature and Culture\",\"Chinese (Mandarin), Spanish\",\"Math through Card Play; Art, Poetry/Spoken Word, Drama, Book, STEP, Big Brothers/Big Sisters, Student Government/Leadership, Future Project\",Basketball,Softball,Soccer,\"Boxing, Track, CHAMPS, Tennis, Flag Football, Softball\",The Henry Street Settlement; Asia Society; America Reads; Future Project; 21st Century Grant,Gouverneur Hospital (Turning Points),New York University,Asia Society,Heart of America Foundation,,,United Nations,,,8:30 AM,3:30 PM,This school will provide students with disabilities the supports and services indicated on their IEPs.,ESL,Functionally Accessible,1,Priority to continuing 8th graders,Then to Manhattan students or residents who attend an information session,Then to New York City residents who attend an information session,Then to Manhattan students or residents,Then to New York City residents,,,,,,\"220 Henry Street',\n",
       " 'New York, NY 10002']"
      ]
     },
     "execution_count": 14,
     "metadata": {},
     "output_type": "execute_result"
    }
   ],
   "source": [
    "hsd.take(3)"
   ]
  },
  {
   "cell_type": "code",
   "execution_count": 15,
   "metadata": {},
   "outputs": [
    {
     "data": {
      "text/plain": [
       "[(0, 'dbn'),\n",
       " (1, 'school_name'),\n",
       " (2, 'boro'),\n",
       " (3, 'building_code'),\n",
       " (4, 'phone_number'),\n",
       " (5, 'fax_number'),\n",
       " (6, 'grade_span_min'),\n",
       " (7, 'grade_span_max'),\n",
       " (8, 'expgrade_span_min'),\n",
       " (9, 'expgrade_span_max'),\n",
       " (10, 'bus'),\n",
       " (11, 'subway'),\n",
       " (12, 'primary_address_line_1'),\n",
       " (13, 'city'),\n",
       " (14, 'state_code'),\n",
       " (15, 'zip'),\n",
       " (16, 'website'),\n",
       " (17, 'total_students'),\n",
       " (18, 'campus_name'),\n",
       " (19, 'school_type'),\n",
       " (20, 'overview_paragraph'),\n",
       " (21, 'program_highlights'),\n",
       " (22, 'language_classes'),\n",
       " (23, 'advancedplacement_courses'),\n",
       " (24, 'online_ap_courses'),\n",
       " (25, 'online_language_courses'),\n",
       " (26, 'extracurricular_activities'),\n",
       " (27, 'psal_sports_boys'),\n",
       " (28, 'psal_sports_girls'),\n",
       " (29, 'psal_sports_coed'),\n",
       " (30, 'school_sports'),\n",
       " (31, 'partner_cbo'),\n",
       " (32, 'partner_hospital'),\n",
       " (33, 'partner_highered'),\n",
       " (34, 'partner_cultural'),\n",
       " (35, 'partner_nonprofit'),\n",
       " (36, 'partner_corporate'),\n",
       " (37, 'partner_financial'),\n",
       " (38, 'partner_other'),\n",
       " (39, 'addtl_info1'),\n",
       " (40, 'addtl_info2'),\n",
       " (41, 'start_time'),\n",
       " (42, 'end_time'),\n",
       " (43, 'se_services'),\n",
       " (44, 'ell_programs'),\n",
       " (45, 'school_accessibility_description'),\n",
       " (46, 'number_programs'),\n",
       " (47, 'priority01'),\n",
       " (48, 'priority02'),\n",
       " (49, 'priority03'),\n",
       " (50, 'priority04'),\n",
       " (51, 'priority05'),\n",
       " (52, 'priority06'),\n",
       " (53, 'priority07'),\n",
       " (54, 'priority08'),\n",
       " (55, 'priority09'),\n",
       " (56, 'priority10'),\n",
       " (57, 'Location 1')]"
      ]
     },
     "execution_count": 15,
     "metadata": {},
     "output_type": "execute_result"
    }
   ],
   "source": [
    "list(enumerate(hsd.first().split(',')))"
   ]
  },
  {
   "cell_type": "code",
   "execution_count": 16,
   "metadata": {},
   "outputs": [
    {
     "data": {
      "text/plain": [
       "[('01M450', 'Manhattan'),\n",
       " ('01M539', 'Manhattan'),\n",
       " ('01M696', 'Manhattan'),\n",
       " ('02M374', 'Manhattan'),\n",
       " ('02M400', 'Manhattan')]"
      ]
     },
     "execution_count": 16,
     "metadata": {},
     "output_type": "execute_result"
    }
   ],
   "source": [
    "def extractSchools(index, lines):\n",
    "    if index==0:\n",
    "        next(lines)\n",
    "    import csv\n",
    "    reader = csv.reader(lines)\n",
    "    for row in reader:\n",
    "        if (len(row) == 57+1) and row[17].isdigit():\n",
    "            if int(row[17]) > 500:\n",
    "                yield (row[0], row[2])\n",
    "schools = hsd.mapPartitionsWithIndex(extractSchools)\n",
    "schools.take(5)"
   ]
  },
  {
   "cell_type": "code",
   "execution_count": 17,
   "metadata": {},
   "outputs": [
    {
     "data": {
      "text/plain": [
       "[(0, 'DBN'),\n",
       " (1, 'SCHOOL NAME'),\n",
       " (2, 'Num of SAT Test Takers'),\n",
       " (3, 'SAT Critical Reading Avg. Score'),\n",
       " (4, 'SAT Math Avg. Score'),\n",
       " (5, 'SAT Writing Avg. Score')]"
      ]
     },
     "execution_count": 17,
     "metadata": {},
     "output_type": "execute_result"
    }
   ],
   "source": [
    "sat = sc.textFile(SAT_FN, use_unicode=False).cache()\n",
    "list(enumerate(sat.first().split(',')))"
   ]
  },
  {
   "cell_type": "code",
   "execution_count": 18,
   "metadata": {},
   "outputs": [
    {
     "data": {
      "text/plain": [
       "[('02M047', (6400, 16)),\n",
       " ('21K410', (207575, 475)),\n",
       " ('30Q301', (43120, 98)),\n",
       " ('17K382', (22066, 59))]"
      ]
     },
     "execution_count": 18,
     "metadata": {},
     "output_type": "execute_result"
    }
   ],
   "source": [
    "# extract DBN and #Test Takers, and the total scores\n",
    "def extractScores(index, lines):\n",
    "    if index==0:\n",
    "        next(lines)\n",
    "    import csv\n",
    "    reader = csv.reader(lines)\n",
    "    for row in reader:\n",
    "        if row[2] != 's':\n",
    "            yield (row[0], (int(row[2])*int(row[4]), int(row[2])))\n",
    "scores = sat.mapPartitionsWithIndex(extractScores)\n",
    "scores.take(4)"
   ]
  },
  {
   "cell_type": "code",
   "execution_count": 19,
   "metadata": {},
   "outputs": [
    {
     "data": {
      "text/plain": [
       "[('Bronx', (23069, 59)),\n",
       " ('Staten Island', (52216, 107)),\n",
       " ('Bronx', (16317, 49)),\n",
       " ('Brooklyn', (33235, 85))]"
      ]
     },
     "execution_count": 19,
     "metadata": {},
     "output_type": "execute_result"
    }
   ],
   "source": [
    "schools.join(scores).values().take(4)"
   ]
  },
  {
   "cell_type": "code",
   "execution_count": 20,
   "metadata": {},
   "outputs": [
    {
     "data": {
      "text/plain": [
       "[('Bronx', 470),\n",
       " ('Manhattan', 514),\n",
       " ('Brooklyn', 487),\n",
       " ('Staten Island', 477),\n",
       " ('Queens', 474)]"
      ]
     },
     "execution_count": 20,
     "metadata": {},
     "output_type": "execute_result"
    }
   ],
   "source": [
    "schools.join(scores).values() \\\n",
    "    .reduceByKey(lambda x, y: (x[0]+y[0], x[1]+y[1])) \\\n",
    "    .mapValues(lambda x: x[0]/x[1]) \\\n",
    "    .collect()"
   ]
  },
  {
   "cell_type": "markdown",
   "metadata": {},
   "source": [
    "## TASK 2:\n",
    "We would like to know how the Math scores vary across bus lines or subway lines serving the schools.\n",
    "Your task is to compute the average Math scores of all schools along each bus line and subway line. You can\n",
    "find the bus and subway lines serving each school in the High School Dictionary as bus and subway\n",
    "columns.\n",
    "The expected results are two lists:\n",
    "1. A list of key/value pairs: with bus line as keys, and the average Math scores as values.\n",
    "2. A list of key/value pairs: with subway line as keys, and the average Math scores as values"
   ]
  },
  {
   "cell_type": "code",
   "execution_count": 26,
   "metadata": {},
   "outputs": [
    {
     "data": {
      "text/plain": [
       "'DOE_High_School_Directory_2014-2015.csv'"
      ]
     },
     "execution_count": 26,
     "metadata": {},
     "output_type": "execute_result"
    }
   ],
   "source": [
    "HSD_FN"
   ]
  },
  {
   "cell_type": "code",
   "execution_count": 21,
   "metadata": {
    "collapsed": true
   },
   "outputs": [],
   "source": [
    "buses = \"B39, M14A, M14D, M15, M15-SBS, M21, M9\"\n",
    "subways = \"B, D to Grand St; F to East Broadway ; J, M, Z to Delancey St-Essex St\""
   ]
  },
  {
   "cell_type": "code",
   "execution_count": 23,
   "metadata": {},
   "outputs": [
    {
     "data": {
      "text/plain": [
       "['J', 'M', 'Z']"
      ]
     },
     "execution_count": 23,
     "metadata": {},
     "output_type": "execute_result"
    }
   ],
   "source": [
    "lines = buses.split(', ')\n",
    "lines = subways.split(' ; ')[1].split(' to ')[0].split(', ')\n",
    "lines"
   ]
  },
  {
   "cell_type": "code",
   "execution_count": 39,
   "metadata": {},
   "outputs": [
    {
     "ename": "AttributeError",
     "evalue": "'tuple' object has no attribute 'split'",
     "output_type": "error",
     "traceback": [
      "\u001b[0;31m---------------------------------------------------------------------------\u001b[0m",
      "\u001b[0;31mAttributeError\u001b[0m                            Traceback (most recent call last)",
      "\u001b[0;32m<ipython-input-39-b29af7145f74>\u001b[0m in \u001b[0;36m<module>\u001b[0;34m()\u001b[0m\n\u001b[0;32m----> 1\u001b[0;31m \u001b[0mrowLen\u001b[0m \u001b[0;34m=\u001b[0m \u001b[0mlen\u001b[0m\u001b[0;34m(\u001b[0m\u001b[0mschools\u001b[0m\u001b[0;34m.\u001b[0m\u001b[0mfirst\u001b[0m\u001b[0;34m(\u001b[0m\u001b[0;34m)\u001b[0m\u001b[0;34m.\u001b[0m\u001b[0msplit\u001b[0m\u001b[0;34m(\u001b[0m\u001b[0;34m','\u001b[0m\u001b[0;34m)\u001b[0m\u001b[0;34m)\u001b[0m\u001b[0;34m\u001b[0m\u001b[0m\n\u001b[0m\u001b[1;32m      2\u001b[0m \u001b[0;34m\u001b[0m\u001b[0m\n\u001b[1;32m      3\u001b[0m \u001b[0;32mdef\u001b[0m \u001b[0mextractSchools2\u001b[0m\u001b[0;34m(\u001b[0m\u001b[0mpartId\u001b[0m\u001b[0;34m,\u001b[0m \u001b[0mlist_of_records\u001b[0m\u001b[0;34m)\u001b[0m\u001b[0;34m:\u001b[0m\u001b[0;34m\u001b[0m\u001b[0m\n\u001b[1;32m      4\u001b[0m     \u001b[0;32mif\u001b[0m \u001b[0mpartId\u001b[0m\u001b[0;34m==\u001b[0m\u001b[0;36m0\u001b[0m\u001b[0;34m:\u001b[0m\u001b[0;34m\u001b[0m\u001b[0m\n\u001b[1;32m      5\u001b[0m         \u001b[0mnext\u001b[0m\u001b[0;34m(\u001b[0m\u001b[0mlist_of_records\u001b[0m\u001b[0;34m)\u001b[0m \u001b[0;31m# skipping the first line\u001b[0m\u001b[0;34m\u001b[0m\u001b[0m\n",
      "\u001b[0;31mAttributeError\u001b[0m: 'tuple' object has no attribute 'split'"
     ]
    }
   ],
   "source": [
    "rowLen = len(schools.first().split(','))\n",
    "\n",
    "def extractSchools2(partId, list_of_records):\n",
    "    if partId==0: \n",
    "        next(list_of_records) # skipping the first line\n",
    "    import csv\n",
    "    reader = csv.reader(list_of_records)\n",
    "    for row in reader:\n",
    "        if len(row)==rowLen:\n",
    "            (dbn, buses, subways) = (row[0], row[10], row[11])\n",
    "            lines = buses.split(', ') + ', '.join([direction.split(' to' )[0]\n",
    "                                                  for direction in subways.split(' ; ')]).splot(', ') \n",
    "    yield (dbn, lines)\n",
    "\n",
    "schoolsWithLines = schools.mapPartitionsWithIndex(extractSchools2)"
   ]
  },
  {
   "cell_type": "code",
   "execution_count": 34,
   "metadata": {},
   "outputs": [
    {
     "ename": "NameError",
     "evalue": "name 'satScores' is not defined",
     "output_type": "error",
     "traceback": [
      "\u001b[0;31m---------------------------------------------------------------------------\u001b[0m",
      "\u001b[0;31mNameError\u001b[0m                                 Traceback (most recent call last)",
      "\u001b[0;32m<ipython-input-34-67f68904bf12>\u001b[0m in \u001b[0;36m<module>\u001b[0;34m()\u001b[0m\n\u001b[0;32m----> 1\u001b[0;31m \u001b[0mschoolsWithLines\u001b[0m\u001b[0;34m.\u001b[0m\u001b[0mjoin\u001b[0m\u001b[0;34m(\u001b[0m\u001b[0msatScores\u001b[0m\u001b[0;34m)\u001b[0m\u001b[0;34m.\u001b[0m\u001b[0mtake\u001b[0m\u001b[0;34m(\u001b[0m\u001b[0;36m3\u001b[0m\u001b[0;34m)\u001b[0m\u001b[0;34m\u001b[0m\u001b[0m\n\u001b[0m",
      "\u001b[0;31mNameError\u001b[0m: name 'satScores' is not defined"
     ]
    }
   ],
   "source": [
    "schoolsWithLines.join(satScores).take(3)"
   ]
  },
  {
   "cell_type": "code",
   "execution_count": null,
   "metadata": {
    "collapsed": true
   },
   "outputs": [],
   "source": []
  }
 ],
 "metadata": {
  "kernelspec": {
   "display_name": "Python 2",
   "language": "python",
   "name": "python2"
  },
  "language_info": {
   "codemirror_mode": {
    "name": "ipython",
    "version": 2
   },
   "file_extension": ".py",
   "mimetype": "text/x-python",
   "name": "python",
   "nbconvert_exporter": "python",
   "pygments_lexer": "ipython2",
   "version": "2.7.13"
  }
 },
 "nbformat": 4,
 "nbformat_minor": 2
}
