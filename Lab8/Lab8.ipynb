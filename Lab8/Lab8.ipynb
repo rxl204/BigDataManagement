{
 "cells": [
  {
   "cell_type": "markdown",
   "metadata": {},
   "source": [
    "# Lab 8 "
   ]
  },
  {
   "cell_type": "code",
   "execution_count": 1,
   "metadata": {
    "scrolled": true
   },
   "outputs": [
    {
     "data": {
      "text/html": [
       "\n",
       "        <div>\n",
       "            <p><b>SparkContext</b></p>\n",
       "\n",
       "            <p><a href=\"http://172-16-33-111.dynapool.nyu.edu:4040\">Spark UI</a></p>\n",
       "\n",
       "            <dl>\n",
       "              <dt>Version</dt>\n",
       "                <dd><code>v2.3.1</code></dd>\n",
       "              <dt>Master</dt>\n",
       "                <dd><code>local[*]</code></dd>\n",
       "              <dt>AppName</dt>\n",
       "                <dd><code>PySparkShell</code></dd>\n",
       "            </dl>\n",
       "        </div>\n",
       "        "
      ],
      "text/plain": [
       "<SparkContext master=local[*] appName=PySparkShell>"
      ]
     },
     "execution_count": 1,
     "metadata": {},
     "output_type": "execute_result"
    }
   ],
   "source": [
    "sc"
   ]
  },
  {
   "cell_type": "markdown",
   "metadata": {},
   "source": [
    "## Problem Statement: \n",
    "### We suspect that there were many people that used the yellow cab service to get to CitiBike stations for their daily commutes. As a first step to test this hypothesis, we would like to count how many CitiBike trips that could have been matched with a prior taxi trip around the “Greenwich Ave & 8 Ave” station on February 1st 2015. A CitiBike trip is defined as “matched” if it can be paired with a taxi trip given that:\n",
    "- The taxi trip ended within 0.25 miles of the above station\n",
    "- The Citibike trip starting at the above station must have happened after the taxi trip ended but cannot be more than 10 minutes after that."
   ]
  },
  {
   "cell_type": "code",
   "execution_count": 3,
   "metadata": {
    "collapsed": true
   },
   "outputs": [],
   "source": [
    "taxi = sc.textFile('yellow.csv.gz')\n",
    "bike = sc.textFile('citibike.csv')"
   ]
  },
  {
   "cell_type": "code",
   "execution_count": 4,
   "metadata": {},
   "outputs": [
    {
     "data": {
      "text/plain": [
       "u'cartodb_id,the_geom,tripduration,starttime,stoptime,start_station_id,start_station_name,start_station_latitude,start_station_longitude,end_station_id,end_station_name,end_station_latitude,end_station_longitude,bikeid,usertype,birth_year,gender'"
      ]
     },
     "execution_count": 4,
     "metadata": {},
     "output_type": "execute_result"
    }
   ],
   "source": [
    "# bike RDD -> filter by 'Greenwich Ave & 8 Ave' station\n",
    "bike.first()"
   ]
  },
  {
   "cell_type": "code",
   "execution_count": 15,
   "metadata": {},
   "outputs": [],
   "source": [
    "#list(enumerate(bike.first()))"
   ]
  },
  {
   "cell_type": "code",
   "execution_count": 12,
   "metadata": {},
   "outputs": [
    {
     "data": {
      "text/plain": [
       "[u'2015-02-01 00:05:00+00', u'2015-02-01 00:05:00+00']"
      ]
     },
     "execution_count": 12,
     "metadata": {},
     "output_type": "execute_result"
    }
   ],
   "source": [
    "def bikeFilter(record):\n",
    "    fields = record.split(',')\n",
    "    return (fields[6] == 'Greenwich Ave & 8 Ave' and \n",
    "           fields[3].startswith('2015-02-01'))\n",
    "    \n",
    "bike.filter(bikeFilter).map(lambda x: x.split(',')[3]).take(2)"
   ]
  },
  {
   "cell_type": "code",
   "execution_count": 14,
   "metadata": {},
   "outputs": [
    {
     "data": {
      "text/plain": [
       "[u'2015-02-01 00:05:00+00', u'2015-02-01 00:05:00+00']"
      ]
     },
     "execution_count": 14,
     "metadata": {},
     "output_type": "execute_result"
    }
   ],
   "source": [
    "def filterBike(records):\n",
    "    for record in records: \n",
    "        fields = record.split(',')\n",
    "        if (fields[6] == 'Greenwich Ave & 8 Ave' and \n",
    "           fields[3].startswith('2015-02-01')):\n",
    "            yield fields[3]\n",
    "    \n",
    "matchedBike = bike.mapPartitions(filterBike)"
   ]
  },
  {
   "cell_type": "code",
   "execution_count": 16,
   "metadata": {},
   "outputs": [
    {
     "data": {
      "text/plain": [
       "[u'10,,585,2015-02-01 00:05:00+00,2015-02-01 00:15:00+00,284,Greenwich Ave & 8 Ave,40.73901691,-74.00263761,444,Broadway & W 24 St,40.7423543,-73.98915076,14843,Subscriber,1982,1',\n",
       " u'11,,581,2015-02-01 00:05:00+00,2015-02-01 00:15:00+00,284,Greenwich Ave & 8 Ave,40.73901691,-74.00263761,444,Broadway & W 24 St,40.7423543,-73.98915076,16936,Subscriber,1988,2']"
      ]
     },
     "execution_count": 16,
     "metadata": {},
     "output_type": "execute_result"
    }
   ],
   "source": [
    "bike.filter(bikeFilter).take(2)"
   ]
  },
  {
   "cell_type": "code",
   "execution_count": 17,
   "metadata": {
    "collapsed": true
   },
   "outputs": [],
   "source": [
    "bikeStation = (40.73901691,-74.00263761)"
   ]
  },
  {
   "cell_type": "code",
   "execution_count": 24,
   "metadata": {},
   "outputs": [
    {
     "data": {
      "text/plain": [
       "[(983543.8470083601, 208706.8518016252),\n",
       " (982742.5530401971, 208697.15963129935)]"
      ]
     },
     "execution_count": 24,
     "metadata": {},
     "output_type": "execute_result"
    }
   ],
   "source": [
    "def filterTaxi (pIndex, lines):\n",
    "    #skip headers\n",
    "    if pIndex == 0:\n",
    "        next(lines)\n",
    "    import pyproj\n",
    "    proj = pyproj.Proj(init=\"epsg:2263\", preserve_units=True)\n",
    "    station = proj(-74.00263761, 40.73901691)\n",
    "    radius = 1320**2\n",
    "    for trip in lines: \n",
    "        fields = trip.split(',')\n",
    "        dropoff = proj(fields[5], fields[4]) #lat lon\n",
    "        if (fields[1].startswith('2015-02-01') and \n",
    "           ((dropoff[0]-station[0])**2 +\n",
    "           (dropoff[1]-station[1])**2 <= radius)):\n",
    "             yield dropoff\n",
    "matchedTaxi = taxi.mapPartitionsWithIndex(filterTaxi)\n",
    "matchedTaxi.take(2)"
   ]
  },
  {
   "cell_type": "code",
   "execution_count": 29,
   "metadata": {},
   "outputs": [
    {
     "data": {
      "text/plain": [
       "7278"
      ]
     },
     "execution_count": 29,
     "metadata": {},
     "output_type": "execute_result"
    }
   ],
   "source": [
    "def filterTaxi (pIndex, lines):\n",
    "    #skip headers\n",
    "    if pIndex == 0:\n",
    "        next(lines)\n",
    "    import pyproj\n",
    "    proj = pyproj.Proj(init=\"epsg:2263\", preserve_units=True)\n",
    "    station = proj(-74.00263761, 40.73901691)\n",
    "    radius = 1320**2\n",
    "    for trip in lines: \n",
    "        fields = trip.split(',')\n",
    "        try:\n",
    "            dropoff = proj(fields[5], fields[4]) #lat lon\n",
    "        except:\n",
    "            continue\n",
    "        if (fields[1].startswith('2015-02-01') and \n",
    "           ((dropoff[0]-station[0])**2 +\n",
    "           (dropoff[1]-station[1])**2 <= radius)):\n",
    "             yield fields[1]\n",
    "matchedTaxi = taxi.mapPartitionsWithIndex(filterTaxi)\n",
    "matchedTaxi.count()"
   ]
  },
  {
   "cell_type": "code",
   "execution_count": null,
   "metadata": {
    "collapsed": true
   },
   "outputs": [],
   "source": [
    "count = 0\n",
    "for t in matchedTaxi:\n",
    "    for b in matchedBike:\n",
    "        if b within 10 min of t: \n",
    "            count +="
   ]
  }
 ],
 "metadata": {
  "kernelspec": {
   "display_name": "Python 2",
   "language": "python",
   "name": "python2"
  },
  "language_info": {
   "codemirror_mode": {
    "name": "ipython",
    "version": 2
   },
   "file_extension": ".py",
   "mimetype": "text/x-python",
   "name": "python",
   "nbconvert_exporter": "python",
   "pygments_lexer": "ipython2",
   "version": "2.7.13"
  }
 },
 "nbformat": 4,
 "nbformat_minor": 2
}
